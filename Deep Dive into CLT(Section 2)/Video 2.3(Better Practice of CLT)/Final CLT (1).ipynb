{
 "cells": [
  {
   "cell_type": "code",
   "execution_count": 1,
   "metadata": {
    "id": "SN9hQ9Sn7wFs"
   },
   "outputs": [],
   "source": [
    "import numpy as np\n",
    "import pandas as pd\n",
    "import matplotlib.pyplot as plt\n",
    "import seaborn as sns\n",
    "import scipy"
   ]
  },
  {
   "cell_type": "code",
   "execution_count": 2,
   "metadata": {
    "colab": {
     "base_uri": "https://localhost:8080/",
     "height": 206
    },
    "id": "IdKyxE1A8PA_",
    "outputId": "cafff404-f7b9-4132-b948-617f4599063a"
   },
   "outputs": [
    {
     "data": {
      "text/html": [
       "<div>\n",
       "<style scoped>\n",
       "    .dataframe tbody tr th:only-of-type {\n",
       "        vertical-align: middle;\n",
       "    }\n",
       "\n",
       "    .dataframe tbody tr th {\n",
       "        vertical-align: top;\n",
       "    }\n",
       "\n",
       "    .dataframe thead th {\n",
       "        text-align: right;\n",
       "    }\n",
       "</style>\n",
       "<table border=\"1\" class=\"dataframe\">\n",
       "  <thead>\n",
       "    <tr style=\"text-align: right;\">\n",
       "      <th></th>\n",
       "      <th>Loan_ID</th>\n",
       "      <th>Gender</th>\n",
       "      <th>Married</th>\n",
       "      <th>Dependents</th>\n",
       "      <th>Education</th>\n",
       "      <th>Self_Employed</th>\n",
       "      <th>ApplicantIncome</th>\n",
       "      <th>CoapplicantIncome</th>\n",
       "      <th>LoanAmount</th>\n",
       "      <th>Loan_Amount_Term</th>\n",
       "      <th>Credit_History</th>\n",
       "      <th>Property_Area</th>\n",
       "      <th>Loan_Status</th>\n",
       "    </tr>\n",
       "  </thead>\n",
       "  <tbody>\n",
       "    <tr>\n",
       "      <th>0</th>\n",
       "      <td>LP001002</td>\n",
       "      <td>Male</td>\n",
       "      <td>No</td>\n",
       "      <td>0</td>\n",
       "      <td>Graduate</td>\n",
       "      <td>No</td>\n",
       "      <td>5849</td>\n",
       "      <td>0.0</td>\n",
       "      <td>NaN</td>\n",
       "      <td>360.0</td>\n",
       "      <td>1.0</td>\n",
       "      <td>Urban</td>\n",
       "      <td>Y</td>\n",
       "    </tr>\n",
       "    <tr>\n",
       "      <th>1</th>\n",
       "      <td>LP001003</td>\n",
       "      <td>Male</td>\n",
       "      <td>Yes</td>\n",
       "      <td>1</td>\n",
       "      <td>Graduate</td>\n",
       "      <td>No</td>\n",
       "      <td>4583</td>\n",
       "      <td>1508.0</td>\n",
       "      <td>128.0</td>\n",
       "      <td>360.0</td>\n",
       "      <td>1.0</td>\n",
       "      <td>Rural</td>\n",
       "      <td>N</td>\n",
       "    </tr>\n",
       "    <tr>\n",
       "      <th>2</th>\n",
       "      <td>LP001005</td>\n",
       "      <td>Male</td>\n",
       "      <td>Yes</td>\n",
       "      <td>0</td>\n",
       "      <td>Graduate</td>\n",
       "      <td>Yes</td>\n",
       "      <td>3000</td>\n",
       "      <td>0.0</td>\n",
       "      <td>66.0</td>\n",
       "      <td>360.0</td>\n",
       "      <td>1.0</td>\n",
       "      <td>Urban</td>\n",
       "      <td>Y</td>\n",
       "    </tr>\n",
       "    <tr>\n",
       "      <th>3</th>\n",
       "      <td>LP001006</td>\n",
       "      <td>Male</td>\n",
       "      <td>Yes</td>\n",
       "      <td>0</td>\n",
       "      <td>Not Graduate</td>\n",
       "      <td>No</td>\n",
       "      <td>2583</td>\n",
       "      <td>2358.0</td>\n",
       "      <td>120.0</td>\n",
       "      <td>360.0</td>\n",
       "      <td>1.0</td>\n",
       "      <td>Urban</td>\n",
       "      <td>Y</td>\n",
       "    </tr>\n",
       "    <tr>\n",
       "      <th>4</th>\n",
       "      <td>LP001008</td>\n",
       "      <td>Male</td>\n",
       "      <td>No</td>\n",
       "      <td>0</td>\n",
       "      <td>Graduate</td>\n",
       "      <td>No</td>\n",
       "      <td>6000</td>\n",
       "      <td>0.0</td>\n",
       "      <td>141.0</td>\n",
       "      <td>360.0</td>\n",
       "      <td>1.0</td>\n",
       "      <td>Urban</td>\n",
       "      <td>Y</td>\n",
       "    </tr>\n",
       "  </tbody>\n",
       "</table>\n",
       "</div>"
      ],
      "text/plain": [
       "    Loan_ID Gender Married Dependents     Education Self_Employed  \\\n",
       "0  LP001002   Male      No          0      Graduate            No   \n",
       "1  LP001003   Male     Yes          1      Graduate            No   \n",
       "2  LP001005   Male     Yes          0      Graduate           Yes   \n",
       "3  LP001006   Male     Yes          0  Not Graduate            No   \n",
       "4  LP001008   Male      No          0      Graduate            No   \n",
       "\n",
       "   ApplicantIncome  CoapplicantIncome  LoanAmount  Loan_Amount_Term  \\\n",
       "0             5849                0.0         NaN             360.0   \n",
       "1             4583             1508.0       128.0             360.0   \n",
       "2             3000                0.0        66.0             360.0   \n",
       "3             2583             2358.0       120.0             360.0   \n",
       "4             6000                0.0       141.0             360.0   \n",
       "\n",
       "   Credit_History Property_Area Loan_Status  \n",
       "0             1.0         Urban           Y  \n",
       "1             1.0         Rural           N  \n",
       "2             1.0         Urban           Y  \n",
       "3             1.0         Urban           Y  \n",
       "4             1.0         Urban           Y  "
      ]
     },
     "execution_count": 2,
     "metadata": {},
     "output_type": "execute_result"
    }
   ],
   "source": [
    "df= pd.read_csv('train_ctrUa4K.csv')\n",
    "df.head()"
   ]
  },
  {
   "cell_type": "code",
   "execution_count": 3,
   "metadata": {
    "colab": {
     "base_uri": "https://localhost:8080/"
    },
    "id": "HF8n8_gr8bmR",
    "outputId": "2f4f4cdd-3880-4b52-b278-d69cbc0b3342"
   },
   "outputs": [
    {
     "data": {
      "text/plain": [
       "(614,)"
      ]
     },
     "execution_count": 3,
     "metadata": {},
     "output_type": "execute_result"
    }
   ],
   "source": [
    "income_pop= df.ApplicantIncome\n",
    "income_pop.shape"
   ]
  },
  {
   "cell_type": "markdown",
   "metadata": {
    "id": "_HdLQRqcFTFj"
   },
   "source": [
    "Let's have a look at the stats of Population (*ApplicantIncome*)."
   ]
  },
  {
   "cell_type": "code",
   "execution_count": 4,
   "metadata": {
    "colab": {
     "base_uri": "https://localhost:8080/"
    },
    "id": "umhziJQvFriC",
    "outputId": "186596c8-2b41-49fd-9ba4-709d0561cf1f"
   },
   "outputs": [
    {
     "data": {
      "text/plain": [
       "5403.459283387622"
      ]
     },
     "execution_count": 4,
     "metadata": {},
     "output_type": "execute_result"
    }
   ],
   "source": [
    "# mean\n",
    "mean_pop=income_pop.mean()\n",
    "mean_pop"
   ]
  },
  {
   "cell_type": "code",
   "execution_count": 5,
   "metadata": {
    "colab": {
     "base_uri": "https://localhost:8080/"
    },
    "id": "7ezqZtA4Gkcn",
    "outputId": "095a716f-9799-466f-f9e0-f37e0c1ea5dc"
   },
   "outputs": [
    {
     "data": {
      "text/plain": [
       "6109.041673387174"
      ]
     },
     "execution_count": 5,
     "metadata": {},
     "output_type": "execute_result"
    }
   ],
   "source": [
    "# std dev.\n",
    "std_pop=income_pop.std()\n",
    "std_pop"
   ]
  },
  {
   "cell_type": "code",
   "execution_count": 12,
   "metadata": {},
   "outputs": [
    {
     "data": {
      "text/plain": [
       "3812.5"
      ]
     },
     "execution_count": 12,
     "metadata": {},
     "output_type": "execute_result"
    }
   ],
   "source": [
    "median_pop = income_pop.median()\n",
    "median_pop"
   ]
  },
  {
   "cell_type": "code",
   "execution_count": 6,
   "metadata": {
    "colab": {
     "base_uri": "https://localhost:8080/",
     "height": 282
    },
    "id": "jFVCs3azFvLq",
    "outputId": "49978d4e-137e-4eae-df7a-b987e03ee319"
   },
   "outputs": [
    {
     "data": {
      "image/png": "[encoded data removed]",
      "text/plain": [
       "<Figure size 432x288 with 1 Axes>"
      ]
     },
     "metadata": {
      "needs_background": "light"
     },
     "output_type": "display_data"
    }
   ],
   "source": [
    "sns.histplot(income_pop, kde=True)\n",
    "plt.show()"
   ]
  },
  {
   "cell_type": "markdown",
   "metadata": {
    "id": "NIx30D8xF0oN"
   },
   "source": [
    "Here we can see that the distribution is not normal and mean = 5403.45, std. dev = 6109.04."
   ]
  },
  {
   "cell_type": "markdown",
   "metadata": {
    "id": "GX_kSNE-IqG_"
   },
   "source": [
    "# Central Limit Theorm\n",
    "The central limit theorem states that if you have a population with mean μ and standard deviation σ and take sufficiently large random samples from the population with replacement , then the distribution of the sample means will be approximately normally distributed."
   ]
  },
  {
   "cell_type": "markdown",
   "metadata": {},
   "source": [
    "## n=25, we will be taking 300 samples where each sample will contain random 25 people from the whole population everytime."
   ]
  },
  {
   "cell_type": "markdown",
   "metadata": {
    "id": "fJfB8hp3GY8S"
   },
   "source": [
    "### Problem Setup\n",
    "##### lets sample 25 people on their income,create a list of sample mean with n=25  take their mean compare it with a population mean lets see how this compares \n",
    "\n",
    "### Create a List of Sample Mean list with n=25, 50, 100, 150, 200\n",
    "\n",
    "##### Lets create a list sample_mean here lets take 300 samples each of *n* random values with replacement. For each sample, lets calculate the mean of the sample and store all those sample mean values in the list sample_means respectively."
   ]
  },
  {
   "cell_type": "code",
   "execution_count": 7,
   "metadata": {
    "colab": {
     "base_uri": "https://localhost:8080/",
     "height": 265
    },
    "id": "zP9CH2V_HY2G",
    "outputId": "18955543-fb33-4b07-b98a-be1c04bed840"
   },
   "outputs": [
    {
     "data": {
      "image/png": "[encoded data removed]",
      "text/plain": [
       "<Figure size 432x288 with 1 Axes>"
      ]
     },
     "metadata": {
      "needs_background": "light"
     },
     "output_type": "display_data"
    }
   ],
   "source": [
    "sample_means_list = []\n",
    "n_best=0\n",
    "n_list= [25, 50, 100, 150, 200]\n",
    "skew= []\n",
    "kurt= []\n",
    "for n in n_list:\n",
    "  sample_means_trial=[]\n",
    "  for sample in range(0, 300):\n",
    "    sample_values = np.random.choice(income_pop, size=n) \n",
    "    sample_mean = np.mean(sample_values)\n",
    "    sample_means_trial.append(sample_mean)\n",
    "\n",
    "  sns.kdeplot(sample_means_trial, label=n)\n",
    "  sample_means_list.append(sample_means_trial)\n",
    "  skewness=scipy.stats.skew(sample_means_trial)\n",
    "  skew.append(skewness)\n",
    "  kurtosis= scipy.stats.kurtosis(sample_means_trial)\n",
    "  kurt.append(kurtosis)\n",
    "plt.legend();"
   ]
  },
  {
   "cell_type": "markdown",
   "metadata": {
    "id": "ITbPEjoJUsp-"
   },
   "source": [
    "So, here we have 5 sample means list. And as per CLT if we choose an appropriate sample size then the sample means approximate a normal distribution.\n",
    "\n",
    "So, here we have the skewness and kurtosis of the *sample means* and we will go with that smaple_mean that has low skew and kurt."
   ]
  },
  {
   "cell_type": "code",
   "execution_count": 9,
   "metadata": {
    "colab": {
     "base_uri": "https://localhost:8080/"
    },
    "id": "VlwYSp9oT0l2",
    "outputId": "168d4376-9b7f-44fa-ec58-7bd27868b998"
   },
   "outputs": [
    {
     "name": "stdout",
     "output_type": "stream",
     "text": [
      "skew: [1.648218482445727, 1.1582465547989451, 0.38582932493973066, 0.5901312383613396, 0.6577926097285884]\n",
      "kurt: [4.792232199483437, 2.308726578120716, -0.17635207701170597, 0.44427136934656186, 0.7513447585314599]\n"
     ]
    }
   ],
   "source": [
    "# let's have a look at the skew list and kurt list\n",
    "print('skew:',skew)\n",
    "print('kurt:',kurt)"
   ]
  },
  {
   "cell_type": "markdown",
   "metadata": {
    "id": "BYb8wmczVtd-"
   },
   "source": [
    "So, the 4th sample_means list with n=150 resembles a normal distribution best with lowest skew and kurt."
   ]
  },
  {
   "cell_type": "code",
   "execution_count": null,
   "metadata": {
    "colab": {
     "base_uri": "https://localhost:8080/"
    },
    "id": "AREWWdkZZNJm",
    "outputId": "ff588337-c002-4106-bddc-981f0ef62d6f"
   },
   "outputs": [
    {
     "data": {
      "text/plain": [
       "3"
      ]
     },
     "execution_count": 96,
     "metadata": {
      "tags": []
     },
     "output_type": "execute_result"
    }
   ],
   "source": [
    "means_list_index= (np.abs(skew)+np.abs(kurt)).argmin()\n",
    "means_list_index"
   ]
  },
  {
   "cell_type": "code",
   "execution_count": null,
   "metadata": {
    "colab": {
     "base_uri": "https://localhost:8080/"
    },
    "id": "3I-RVYP8HrIn",
    "outputId": "bd4db279-9bcf-4ca1-d8c6-045c1e4606a2"
   },
   "outputs": [
    {
     "data": {
      "text/plain": [
       "300"
      ]
     },
     "execution_count": 97,
     "metadata": {
      "tags": []
     },
     "output_type": "execute_result"
    }
   ],
   "source": [
    "sample_means= sample_means_list[means_list_index]\n",
    "n= n_list[means_list_index]\n",
    "len(sample_means)"
   ]
  },
  {
   "cell_type": "code",
   "execution_count": null,
   "metadata": {
    "colab": {
     "base_uri": "https://localhost:8080/",
     "height": 341
    },
    "id": "-jfo8fzPHtPs",
    "outputId": "e8f9253f-6be9-413a-aad0-5f0ea81daafe"
   },
   "outputs": [
    {
     "name": "stderr",
     "output_type": "stream",
     "text": [
      "/usr/local/lib/python3.6/dist-packages/seaborn/distributions.py:2557: FutureWarning: `distplot` is a deprecated function and will be removed in a future version. Please adapt your code to use either `displot` (a figure-level function with similar flexibility) or `histplot` (an axes-level function for histograms).\n",
      "  warnings.warn(msg, FutureWarning)\n"
     ]
    },
    {
     "data": {
      "text/plain": [
       "<matplotlib.axes._subplots.AxesSubplot at 0x7fe12e2e5240>"
      ]
     },
     "execution_count": 90,
     "metadata": {
      "tags": []
     },
     "output_type": "execute_result"
    },
    {
     "data": {
      "image/png": "[encoded data removed]",
      "text/plain": [
       "<Figure size 432x288 with 1 Axes>"
      ]
     },
     "metadata": {
      "needs_background": "light",
      "tags": []
     },
     "output_type": "display_data"
    }
   ],
   "source": [
    "sns.distplot(sample_means)"
   ]
  },
  {
   "cell_type": "markdown",
   "metadata": {
    "id": "w6tXMvLEI63j"
   },
   "source": [
    "Hence we can see the proof of CLT here, i.e. we have taken samples from the Population (Income) and their sample mean form approximately a normal distribution (with proper sample size).\n",
    "\n",
    "The curve is fairly symmetrical around the central value and the median is roughly equivalent to the mean lets check it."
   ]
  },
  {
   "cell_type": "code",
   "execution_count": null,
   "metadata": {
    "colab": {
     "base_uri": "https://localhost:8080/"
    },
    "id": "a2KntnX6b4cv",
    "outputId": "ee564efe-fb0a-40b6-a884-4e3e65b078b9"
   },
   "outputs": [
    {
     "data": {
      "text/plain": [
       "5357.296666666667"
      ]
     },
     "execution_count": 98,
     "metadata": {
      "tags": []
     },
     "output_type": "execute_result"
    }
   ],
   "source": [
    "# median of sample_mean\n",
    "median_of_sample_means = np.median(sample_means)\n",
    "median_of_sample_means"
   ]
  },
  {
   "cell_type": "code",
   "execution_count": null,
   "metadata": {
    "colab": {
     "base_uri": "https://localhost:8080/"
    },
    "id": "nQXxfNk9cDbx",
    "outputId": "7f72289b-70d9-4fb7-9e61-658c74b53990"
   },
   "outputs": [
    {
     "data": {
      "text/plain": [
       "476.82377067471833"
      ]
     },
     "execution_count": 99,
     "metadata": {
      "tags": []
     },
     "output_type": "execute_result"
    }
   ],
   "source": [
    "# std of sample_mean\n",
    "std_sample_mean=np.std(sample_means)\n",
    "std_sample_mean"
   ]
  },
  {
   "cell_type": "code",
   "execution_count": null,
   "metadata": {
    "colab": {
     "base_uri": "https://localhost:8080/"
    },
    "id": "Jrn-hguPcXtI",
    "outputId": "bb55d6f0-4a56-4c11-d6e5-13cf5901102e"
   },
   "outputs": [
    {
     "data": {
      "text/plain": [
       "5370.229466666666"
      ]
     },
     "execution_count": 100,
     "metadata": {
      "tags": []
     },
     "output_type": "execute_result"
    }
   ],
   "source": [
    "# mean of a sample_mean\n",
    "mean_of_sample_mean = np.mean(sample_means)\n",
    "mean_of_sample_mean"
   ]
  },
  {
   "cell_type": "markdown",
   "metadata": {
    "id": "WX5JsKj0ca9e"
   },
   "source": [
    "Here we can see, the mean and median values of the sample_mean nearly equal.\n",
    "\n",
    "let's compare mean of this and a population now"
   ]
  },
  {
   "cell_type": "code",
   "execution_count": null,
   "metadata": {
    "colab": {
     "base_uri": "https://localhost:8080/"
    },
    "id": "9lQ4EOG8dYnO",
    "outputId": "37ef1f7b-7e4a-457e-9237-71d4e74aba38"
   },
   "outputs": [
    {
     "name": "stdout",
     "output_type": "stream",
     "text": [
      "5370.229466666666 5403.459283387622\n"
     ]
    }
   ],
   "source": [
    "print(mean_of_sample_mean, mean_pop)"
   ]
  },
  {
   "cell_type": "markdown",
   "metadata": {
    "id": "I3b7d0LHdwEf"
   },
   "source": [
    "###### This mean_of_sample_means value is roughly equivalent to our population mean value assigned to the variable mean_pop. Based on the central limit theorem, this will always be the case!"
   ]
  },
  {
   "attachments": {
    "samplerror.PNG": {
     "image/png": "[encoded data removed]"
    }
   },
   "cell_type": "markdown",
   "metadata": {
    "id": "NlEu27GXejjA"
   },
   "source": [
    "### Equation for Calculating the standard error sampling distribution\n",
    "##### The standard deviation of sample means is more commonly called the standard error (SE)\n",
    "\n",
    "![samplerror.PNG](attachment:samplerror.PNG)"
   ]
  },
  {
   "cell_type": "code",
   "execution_count": null,
   "metadata": {
    "colab": {
     "base_uri": "https://localhost:8080/"
    },
    "id": "efnxh680gAhI",
    "outputId": "7598da41-1a6c-4e70-b5be-5e7493cdcd11"
   },
   "outputs": [
    {
     "data": {
      "text/plain": [
       "498.8011639065622"
      ]
     },
     "execution_count": 106,
     "metadata": {
      "tags": []
     },
     "output_type": "execute_result"
    }
   ],
   "source": [
    "standard_error = std_pop/np.sqrt(n)\n",
    "standard_error"
   ]
  },
  {
   "cell_type": "markdown",
   "metadata": {
    "id": "gWykfedVgZ4_"
   },
   "source": [
    "Here we can see, it is nearly same as the *std_sample_mean* we obtained above.\n",
    "\n",
    "-------------\n",
    "*So, we can say that the **sample_means** of the total population (with a proper sample size) is an approximate and normal representation of the whole population.*\n",
    "-----------------\n",
    "-----------------\n",
    "\n",
    "Now let's see, the sample_means if we have taken a lower sample size, let's say 25.\n",
    "\n",
    "We know one thing that the sample_means will not be as much normal as n=150. But let's see other stats.\n",
    "\n",
    "## Sample size = 25"
   ]
  },
  {
   "cell_type": "code",
   "execution_count": null,
   "metadata": {
    "id": "268vPeDmi4l2"
   },
   "outputs": [],
   "source": [
    "sample_means_25= sample_means_list[0]"
   ]
  },
  {
   "cell_type": "code",
   "execution_count": null,
   "metadata": {
    "colab": {
     "base_uri": "https://localhost:8080/"
    },
    "id": "FOalchvcnHMS",
    "outputId": "ef18e6de-9b6e-4e85-b0a9-1215cc602cbd"
   },
   "outputs": [
    {
     "data": {
      "text/plain": [
       "5144.02"
      ]
     },
     "execution_count": 110,
     "metadata": {
      "tags": []
     },
     "output_type": "execute_result"
    }
   ],
   "source": [
    "# median of sample_mean\n",
    "median_of_sample_means_25 = np.median(sample_means_25)\n",
    "median_of_sample_means_25"
   ]
  },
  {
   "cell_type": "code",
   "execution_count": null,
   "metadata": {
    "colab": {
     "base_uri": "https://localhost:8080/"
    },
    "id": "3GRWFdBKnHMW",
    "outputId": "3527fcd7-2172-448e-8a7e-d09b9236fb47"
   },
   "outputs": [
    {
     "data": {
      "text/plain": [
       "1208.9647620008782"
      ]
     },
     "execution_count": 111,
     "metadata": {
      "tags": []
     },
     "output_type": "execute_result"
    }
   ],
   "source": [
    "# std of sample_mean\n",
    "std_sample_mean_25=np.std(sample_means_25)\n",
    "std_sample_mean_25"
   ]
  },
  {
   "cell_type": "code",
   "execution_count": null,
   "metadata": {
    "colab": {
     "base_uri": "https://localhost:8080/"
    },
    "id": "XfK5ji99nHMW",
    "outputId": "3e53f821-c9ab-4bd5-bbcc-8568dd54d75a"
   },
   "outputs": [
    {
     "data": {
      "text/plain": [
       "5454.4403999999995"
      ]
     },
     "execution_count": 112,
     "metadata": {
      "tags": []
     },
     "output_type": "execute_result"
    }
   ],
   "source": [
    "# mean of a sample_mean\n",
    "mean_of_sample_mean_25 = np.mean(sample_means_25)\n",
    "mean_of_sample_mean_25"
   ]
  },
  {
   "cell_type": "code",
   "execution_count": null,
   "metadata": {
    "colab": {
     "base_uri": "https://localhost:8080/"
    },
    "id": "eB0nd_Ajm1Po",
    "outputId": "0f8cfe0b-d082-470b-bcfb-21d1fef912a6"
   },
   "outputs": [
    {
     "name": "stdout",
     "output_type": "stream",
     "text": [
      "5454.4403999999995 5403.459283387622\n"
     ]
    }
   ],
   "source": [
    "print(mean_of_sample_mean_25, mean_pop)"
   ]
  },
  {
   "cell_type": "code",
   "execution_count": null,
   "metadata": {
    "colab": {
     "base_uri": "https://localhost:8080/"
    },
    "id": "YLR3K6p6nYpl",
    "outputId": "7ebed295-f538-4f3a-8926-c219e8ecbf3f"
   },
   "outputs": [
    {
     "data": {
      "text/plain": [
       "1221.808334677435"
      ]
     },
     "execution_count": 115,
     "metadata": {
      "tags": []
     },
     "output_type": "execute_result"
    }
   ],
   "source": [
    "# let's see the standard error (or std dev of sample) calculated by formula (using population)\n",
    "standard_error_25 = std_pop/np.sqrt(25) # n=25\n",
    "standard_error_25"
   ]
  },
  {
   "cell_type": "markdown",
   "metadata": {
    "id": "NWp9XMhAoaau"
   },
   "source": [
    "**Conclusion**:\n",
    "The standard error increases if *sample size* is decreased i.e. the distribution of *sample_means* spreads out more."
   ]
  },
  {
   "cell_type": "markdown",
   "metadata": {
    "id": "V2xSmI_opTz1"
   },
   "source": [
    "## Sample size = 200"
   ]
  },
  {
   "cell_type": "code",
   "execution_count": null,
   "metadata": {
    "id": "azBmId-BqCsL"
   },
   "outputs": [],
   "source": [
    "sample_means_200= sample_means_list[4]"
   ]
  },
  {
   "cell_type": "code",
   "execution_count": null,
   "metadata": {
    "colab": {
     "base_uri": "https://localhost:8080/"
    },
    "id": "CJ1d-jSuqCsN",
    "outputId": "bebb2712-e6fa-4116-dea2-13a5a06ef308"
   },
   "outputs": [
    {
     "data": {
      "text/plain": [
       "5356.9575"
      ]
     },
     "execution_count": 117,
     "metadata": {
      "tags": []
     },
     "output_type": "execute_result"
    }
   ],
   "source": [
    "# median of sample_mean\n",
    "median_of_sample_means_200 = np.median(sample_means_200)\n",
    "median_of_sample_means_200"
   ]
  },
  {
   "cell_type": "code",
   "execution_count": null,
   "metadata": {
    "colab": {
     "base_uri": "https://localhost:8080/"
    },
    "id": "PUWnTqL_qCsO",
    "outputId": "5a929f8f-4ba6-4bca-c3f5-bfc0ed8d8a85"
   },
   "outputs": [
    {
     "data": {
      "text/plain": [
       "432.0067622359358"
      ]
     },
     "execution_count": 118,
     "metadata": {
      "tags": []
     },
     "output_type": "execute_result"
    }
   ],
   "source": [
    "# std of sample_mean\n",
    "std_sample_mean_200=np.std(sample_means_200)\n",
    "std_sample_mean_200"
   ]
  },
  {
   "cell_type": "code",
   "execution_count": null,
   "metadata": {
    "colab": {
     "base_uri": "https://localhost:8080/"
    },
    "id": "vBSnOujxqCsQ",
    "outputId": "28c022c1-ac59-4618-bbe8-cf6e47365dc0"
   },
   "outputs": [
    {
     "data": {
      "text/plain": [
       "5399.008916666667"
      ]
     },
     "execution_count": 119,
     "metadata": {
      "tags": []
     },
     "output_type": "execute_result"
    }
   ],
   "source": [
    "# mean of a sample_mean\n",
    "mean_of_sample_mean_200 = np.mean(sample_means_200)\n",
    "mean_of_sample_mean_200"
   ]
  },
  {
   "cell_type": "code",
   "execution_count": null,
   "metadata": {
    "colab": {
     "base_uri": "https://localhost:8080/"
    },
    "id": "pT_-8x3JqCsS",
    "outputId": "f3da3a2c-ad88-43f4-ecee-94497ba9211f"
   },
   "outputs": [
    {
     "name": "stdout",
     "output_type": "stream",
     "text": [
      "5399.008916666667 5403.459283387622\n"
     ]
    }
   ],
   "source": [
    "print(mean_of_sample_mean_200, mean_pop)"
   ]
  },
  {
   "cell_type": "code",
   "execution_count": null,
   "metadata": {
    "colab": {
     "base_uri": "https://localhost:8080/"
    },
    "id": "461T2X_PqCsT",
    "outputId": "c03d506a-b484-4c6d-a930-6f907c1b32b8"
   },
   "outputs": [
    {
     "data": {
      "text/plain": [
       "431.9744793803285"
      ]
     },
     "execution_count": 121,
     "metadata": {
      "tags": []
     },
     "output_type": "execute_result"
    }
   ],
   "source": [
    "# let's see the standard error (or std dev of sample) calculated by formula (using population)\n",
    "standard_error_25 = std_pop/np.sqrt(200) # n=200\n",
    "standard_error_25"
   ]
  },
  {
   "cell_type": "markdown",
   "metadata": {
    "id": "wpQCTJspqCsW"
   },
   "source": [
    "**Conclusion**:\n",
    "The standard error increases if *sample size* is decreased i.e. the distribution of *sample_means* spreads out more.\n",
    "\n",
    "-------------------\n",
    "Ideally we want to take larger samples such as n=150 rather than small samples such as n=25.\n",
    "\n",
    "With more sample size, the new samples_mean have more similar central tendency w.r.t. population, but there is risk of losing normality.\n",
    "\n",
    "**n=25**: Not much normal, large diff of mean from population\n",
    "\n",
    "**n=150**: Normal, small diff of mean from population\n",
    "\n",
    "**n=200**: Less normal, negligible diff of mean from population"
   ]
  },
  {
   "cell_type": "code",
   "execution_count": null,
   "metadata": {
    "id": "PyoPI6X3s7ci"
   },
   "outputs": [],
   "source": []
  }
 ],
 "metadata": {
  "colab": {
   "collapsed_sections": [],
   "name": "my_cental_limit_theorm.ipynb",
   "provenance": []
  },
  "kernelspec": {
   "display_name": "Python 3",
   "language": "python",
   "name": "python3"
  },
  "language_info": {
   "codemirror_mode": {
    "name": "ipython",
    "version": 3
   },
   "file_extension": ".py",
   "mimetype": "text/x-python",
   "name": "python",
   "nbconvert_exporter": "python",
   "pygments_lexer": "ipython3",
   "version": "3.8.5"
  }
 },
 "nbformat": 4,
 "nbformat_minor": 1
}
